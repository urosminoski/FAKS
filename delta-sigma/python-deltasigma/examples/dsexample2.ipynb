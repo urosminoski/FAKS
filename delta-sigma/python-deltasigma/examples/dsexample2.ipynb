{
 "cells": [
  {
   "cell_type": "code",
   "execution_count": null,
   "metadata": {
    "collapsed": false,
    "jupyter": {
     "outputs_hidden": false
    }
   },
   "outputs": [],
   "source": [
    "%pylab inline"
   ]
  },
  {
   "cell_type": "code",
   "execution_count": null,
   "metadata": {
    "collapsed": false,
    "jupyter": {
     "outputs_hidden": false
    }
   },
   "outputs": [],
   "source": [
    "from __future__ import division\n",
    "from IPython.display import Image\n",
    "from deltasigma import *\n",
    "import warnings\n",
    "warnings.filterwarnings('ignore')"
   ]
  },
  {
   "cell_type": "code",
   "execution_count": null,
   "metadata": {
    "collapsed": false,
    "jupyter": {
     "outputs_hidden": false
    }
   },
   "outputs": [],
   "source": [
    "np.set_printoptions(suppress=True, precision=3)"
   ]
  },
  {
   "cell_type": "code",
   "execution_count": null,
   "metadata": {
    "collapsed": false,
    "jupyter": {
     "outputs_hidden": false
    }
   },
   "outputs": [],
   "source": [
    "order = 8\n",
    "osr = 32\n",
    "nlev = 2\n",
    "f0 = 0.125\n",
    "Hinf = 1.5\n",
    "form = 'CRFB'"
   ]
  },
  {
   "cell_type": "code",
   "execution_count": null,
   "metadata": {
    "collapsed": false,
    "jupyter": {
     "outputs_hidden": false
    }
   },
   "outputs": [],
   "source": [
    "ntf = synthesizeNTF(order, osr, 2, Hinf, f0)            # Optimized zero placement\n",
    "print(\"Synthesized a %d-order NTF, with roots:\\n\" % order)\n",
    "print(\" Zeros:\\t\\t\\t Poles:\")\n",
    "for z, p in zip(ntf[0], ntf[1]):\n",
    "    print(\"(%f, %fj)\\t(%f, %fj)\" % (np.real(z), np.imag(z), np.real(p), np.imag(p)))\n",
    "print(\"\")"
   ]
  },
  {
   "cell_type": "code",
   "execution_count": null,
   "metadata": {
    "collapsed": false,
    "jupyter": {
     "outputs_hidden": false
    }
   },
   "outputs": [],
   "source": [
    "plotPZ(ntf, showlist=True)\n",
    "a, g, b, c = realizeNTF(ntf, form)"
   ]
  },
  {
   "cell_type": "code",
   "execution_count": null,
   "metadata": {
    "collapsed": false,
    "jupyter": {
     "outputs_hidden": false
    }
   },
   "outputs": [],
   "source": [
    "Image(url='http://python-deltasigma.readthedocs.org/en/latest/_images/CRFB.png', retina=True)"
   ]
  },
  {
   "cell_type": "code",
   "execution_count": null,
   "metadata": {
    "collapsed": false,
    "jupyter": {
     "outputs_hidden": false
    }
   },
   "outputs": [],
   "source": [
    "b = np.hstack(( # Use a single feed-in for the input\n",
    "               np.atleast_1d(b[0]),\n",
    "               np.zeros((b.shape[0] - 1, ))\n",
    "             ))\n",
    "ABCD = stuffABCD(a, g, b, c, form)\n",
    "print(\"ABCD Matrix:\")\n",
    "print(ABCD)"
   ]
  },
  {
   "cell_type": "code",
   "execution_count": null,
   "metadata": {
    "collapsed": false,
    "jupyter": {
     "outputs_hidden": false
    }
   },
   "outputs": [],
   "source": [
    "DocumentNTF(ABCD, osr, f0)\n",
    "f = gcf()\n",
    "f.set_size_inches((15, 6))"
   ]
  },
  {
   "cell_type": "code",
   "execution_count": null,
   "metadata": {
    "collapsed": false,
    "jupyter": {
     "outputs_hidden": false
    }
   },
   "outputs": [],
   "source": [
    "figure(figsize=(15,8))\n",
    "PlotExampleSpectrum(ntf, M=1, osr=osr, f0=f0)"
   ]
  },
  {
   "cell_type": "code",
   "execution_count": null,
   "metadata": {
    "collapsed": false,
    "jupyter": {
     "outputs_hidden": false
    }
   },
   "outputs": [],
   "source": [
    "snr, amp = simulateSNR(ntf, osr, None, f0, nlev)"
   ]
  },
  {
   "cell_type": "code",
   "execution_count": null,
   "metadata": {
    "collapsed": false,
    "jupyter": {
     "outputs_hidden": false
    }
   },
   "outputs": [],
   "source": [
    "figure(figsize=(15,8))\n",
    "if nlev == 2 and f0 == 0.:\n",
    "    snr_pred, amp_pred, k0, k1, se = predictSNR(ntf, osr)\n",
    "    plot(amp_pred, snr_pred, '-', label='predicted')\n",
    "    hold(True)\n",
    "plot(amp, snr,'o-.g', label='simulated')\n",
    "xlabel('Input Level (dBFS)')\n",
    "ylabel('SQNR (dB)')\n",
    "peak_snr, peak_amp = peakSNR(snr, amp)\n",
    "msg = 'peak SQNR = %4.1fdB  \\n@ amp = %4.1fdB  ' % (peak_snr, peak_amp)\n",
    "text(peak_amp-10,peak_snr,msg, horizontalalignment='right', verticalalignment='center');\n",
    "msg = 'OSR = %d ' % osr\n",
    "text(-2, 5, msg, horizontalalignment='right');\n",
    "hold(False)\n",
    "figureMagic([-100, 0], 10, None, [0, 80], 10, None, [12, 6], 'Time-Domain Simulations')\n",
    "legend(loc=2);"
   ]
  },
  {
   "cell_type": "code",
   "execution_count": null,
   "metadata": {
    "collapsed": false,
    "jupyter": {
     "outputs_hidden": false
    }
   },
   "outputs": [],
   "source": [
    " # Dynamic range scaling\n",
    "print('Doing dynamic range scaling... ',)\n",
    "ABCD0 = ABCD.copy()\n",
    "ABCD, umax, S = scaleABCD(ABCD0, nlev, f0)\n",
    "#a, g, b, c = mapABCD(ABCD,form);\n",
    "print('Done.')\n",
    "print(\"Maximum input magnitude: %.3f\" % umax)"
   ]
  },
  {
   "cell_type": "code",
   "execution_count": null,
   "metadata": {
    "collapsed": false,
    "jupyter": {
     "outputs_hidden": false
    }
   },
   "outputs": [],
   "source": [
    "print('Verifying dynamic range scaling... ',)\n",
    "u = np.linspace(0, 0.95*umax, 30)\n",
    "N = 1e4\n",
    "N0 = 50\n",
    "test_tone = np.cos(2*np.pi*f0*np.arange(N))\n",
    "test_tone[:N0] = test_tone[:N0]*(0.5 - 0.5*np.cos(2*np.pi/N0*np.arange(N0)))\n",
    "maxima = np.zeros((order, u.shape[0]))\n",
    "for i in np.arange(u.shape[0]):\n",
    "    ui = u[i]\n",
    "    v, xn, xmax, y = simulateDSM(ui*test_tone, ABCD, nlev)\n",
    "    maxima[:, i] = xmax[:, 0]\n",
    "    if (xmax > 1e2).any(): \n",
    "        print('Warning, umax from scaleABCD was too high.')\n",
    "        umax = ui\n",
    "        u = u[:i]\n",
    "        maxima = maxima[:, :i]\n",
    "        break\n",
    "print('Done.')\n",
    "print(\"Maximum DC input level: %.3f\" % umax)"
   ]
  },
  {
   "cell_type": "code",
   "execution_count": null,
   "metadata": {
    "collapsed": false,
    "jupyter": {
     "outputs_hidden": false
    }
   },
   "outputs": [],
   "source": [
    "colors = get_cmap('jet')(np.linspace(0, 1.0, order))\n",
    "hold(True)\n",
    "for i in range(order):\n",
    "    plot(u, maxima[i,:], 'o-', color=colors[i], label='State %d' % (i+1))\n",
    "grid(True)\n",
    "figureMagic([0, umax], None, None, [0, 1] , 0.1, 2, [12, 6], 'State Maxima')\n",
    "xlabel('DC input')\n",
    "ylabel('Maxima')\n",
    "legend(loc='best');"
   ]
  },
  {
   "cell_type": "code",
   "execution_count": null,
   "metadata": {
    "collapsed": false,
    "jupyter": {
     "outputs_hidden": false
    }
   },
   "outputs": [],
   "source": [
    "a, g, b, c = mapABCD(ABCD, form)"
   ]
  },
  {
   "cell_type": "code",
   "execution_count": null,
   "metadata": {
    "collapsed": false,
    "jupyter": {
     "outputs_hidden": false
    }
   },
   "outputs": [],
   "source": [
    "adc = {\n",
    "       'order':order,\n",
    "       'osr':osr,\n",
    "       'nlev':nlev,\n",
    "       'f0':f0,\n",
    "       'ntf':ntf,\n",
    "       'ABCD':ABCD,\n",
    "       'umax':umax,\n",
    "       'peak_snr':peak_snr,\n",
    "       'form':form,\n",
    "       'coefficients':{\n",
    "                       'a':a,\n",
    "                       'g':g,\n",
    "                       'b':b,\n",
    "                       'c':c\n",
    "                      }\n",
    "      }"
   ]
  },
  {
   "cell_type": "code",
   "execution_count": null,
   "metadata": {
    "collapsed": false,
    "jupyter": {
     "outputs_hidden": false
    }
   },
   "outputs": [],
   "source": [
    "print(\"Final ADC coefficients:\")\n",
    "print(\"  %s\\n   %s\" % ('a', adc['coefficients']['a']))\n",
    "print(\"  %s\\n   %s\" % ('g', adc['coefficients']['g']))\n",
    "print(\"  %s\\n   %s\" % ('b', adc['coefficients']['b']))\n",
    "print(\"  %s\\n   %s\" % ('c', adc['coefficients']['c']))"
   ]
  },
  {
   "cell_type": "markdown",
   "metadata": {},
   "source": [
    "### System version information"
   ]
  },
  {
   "cell_type": "code",
   "execution_count": null,
   "metadata": {
    "collapsed": false,
    "jupyter": {
     "outputs_hidden": false
    }
   },
   "outputs": [],
   "source": [
    "#%install_ext http://raw.github.com/jrjohansson/version_information/master/version_information.py\n",
    "%load_ext version_information\n",
    "%reload_ext version_information\n",
    "\n",
    "%version_information numpy, scipy, matplotlib, deltasigma"
   ]
  }
 ],
 "metadata": {
  "kernelspec": {
   "display_name": "Python 3 (ipykernel)",
   "language": "python",
   "name": "python3"
  },
  "language_info": {
   "codemirror_mode": {
    "name": "ipython",
    "version": 3
   },
   "file_extension": ".py",
   "mimetype": "text/x-python",
   "name": "python",
   "nbconvert_exporter": "python",
   "pygments_lexer": "ipython3",
   "version": "3.7.16"
  }
 },
 "nbformat": 4,
 "nbformat_minor": 4
}
